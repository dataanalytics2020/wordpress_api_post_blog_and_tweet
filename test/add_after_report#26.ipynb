{
 "cells": [
  {
   "cell_type": "code",
   "execution_count": 4,
   "metadata": {},
   "outputs": [
    {
     "name": "stdout",
     "output_type": "stream",
     "text": [
      "['  File \"C:\\\\Users\\\\tsc95\\\\AppData\\\\Local\\\\Temp\\\\ipykernel_6312\\\\252897465.py\", line 4, in <module>\\n    1 / 0\\n']\n"
     ]
    }
   ],
   "source": [
    "import sys\n",
    "import traceback\n",
    "try:\n",
    "    1 / 0\n",
    "except Exception as e:\n",
    "    t, v, tb = sys.exc_info()\n",
    "    print(traceback.format_tb(tb))"
   ]
  },
  {
   "cell_type": "code",
   "execution_count": 11,
   "metadata": {},
   "outputs": [
    {
     "data": {
      "text/plain": [
       "True"
      ]
     },
     "execution_count": 11,
     "metadata": {},
     "output_type": "execute_result"
    }
   ],
   "source": [
    "import pandas as pd\n",
    "import datetime\n",
    "import time\n",
    "import unicodedata\n",
    "import string\n",
    "import requests\n",
    "import mysql.connector\n",
    "import os\n",
    "\n",
    "from selenium import webdriver\n",
    "from selenium.webdriver.common.keys import Keys\n",
    "from selenium.common.exceptions import NoSuchElementException\n",
    "from selenium.webdriver.chrome.options import Options\n",
    "from webdriver_manager.chrome import ChromeDriverManager\n",
    "from bs4 import BeautifulSoup\n",
    "\n",
    "from sshtunnel import SSHTunnelForwarder\n",
    "import pymysql as db\n",
    "import pandas as pd\n",
    "import datetime\n",
    "import sshtunnel\n",
    "import os\n",
    "# .env ファイルをロードして環境変数へ反映\n",
    "from dotenv import load_dotenv\n",
    "load_dotenv('.env')\n",
    "# 環境変数を参照"
   ]
  },
  {
   "cell_type": "code",
   "execution_count": 16,
   "metadata": {},
   "outputs": [],
   "source": [
    "def removal_text(text):\n",
    "    text = unicodedata.normalize(\"NFKC\", text)\n",
    "    text = text.translate(str.maketrans( '', '',string.punctuation  + '！'+ '　'+ ' '+'・'+'～' + '‐'))\n",
    "    return text\n",
    "\n",
    "def post_line_text(message,token):\n",
    "    url = \"https://notify-api.line.me/api/notify\"\n",
    "    headers = {\"Authorization\" : \"Bearer \"+ token}\n",
    "    payload = {\"message\" :  message}\n",
    "    post = requests.post(url ,headers = headers ,params=payload) \n",
    "\n",
    "def post_line_text_and_image(message,image_path,token):\n",
    "    url = \"https://notify-api.line.me/api/notify\"\n",
    "    headers = {\"Authorization\" : \"Bearer \"+ token}\n",
    "    payload = {\"message\" :  message}\n",
    "    #imagesフォルダの中のgazo.jpg\n",
    "    print('image_path',image_path)\n",
    "    files = {\"imageFile\":open(image_path,'rb')}\n",
    "    post = requests.post(url ,headers = headers ,params=payload,files=files) \n",
    "\n",
    "def insert_data_bulk(df,cnx):\n",
    "    insert_sql = f\"\"\"INSERT INTO {os.getenv('WORDPRESS_DB_TABLE')} (店舗名, 日付, Nのつく日, 都道府県, 機種名, 台番号, G数, 差枚, BB, RB,ART, BB確率, RB確率, ART確率, 合成確率) values (%s,%s,%s,%s,%s,%s,%s,%s,%s,%s,%s,%s,%s,%s,%s)\"\"\"\n",
    "    cur = cnx.cursor()\n",
    "    cur.executemany(insert_sql, df.values.tolist())\n",
    "    cnx.commit()\n",
    "    print(\"Insert bulk data\")\n",
    "\n",
    "def delete_data(cnx,day):\n",
    "    cursor = cnx.cursor()\n",
    "    target_days_ago = datetime.date.today() - datetime.timedelta(days=day)\n",
    "    target_days_ago_str = target_days_ago.strftime('%Y-%m-%d')\n",
    "    target_days_ago_str\n",
    "    sql = f\"DELETE FROM {os.getenv('WORDPRESS_DB_TABLE')} WHERE 日付 < '{target_days_ago_str} 00:00:00';\"\n",
    "    cursor.execute(sql)\n",
    "    cnx.commit()\n"
   ]
  },
  {
   "cell_type": "code",
   "execution_count": 12,
   "metadata": {},
   "outputs": [
    {
     "name": "stderr",
     "output_type": "stream",
     "text": [
      "C:\\Users\\tsc95\\AppData\\Local\\Temp\\ipykernel_22860\\3660232233.py:62: DeprecationWarning: executable_path has been deprecated, please pass in a Service object\n",
      "  browser = webdriver.Chrome(ChromeDriverManager().install(),options=options)\n"
     ]
    },
    {
     "name": "stdout",
     "output_type": "stream",
     "text": [
      "100℃大曽根店\n",
      "100℃守山店\n",
      "ABC豊川店\n",
      "APAN21勝川店\n",
      "local bind port: 58864\n",
      "sql connection status: True\n",
      "1146 (42S02): Table 'pachislot777_akasaka.test_table' doesn't exist\n",
      "終了\n"
     ]
    }
   ],
   "source": [
    "\n",
    "\n",
    "\n",
    "\n",
    "options = Options()\n",
    "options.add_argument(\"--headless\")\n",
    "options.add_argument('--ignore-certificate-errors')\n",
    "options.add_argument('--ignore-ssl-errors')\n",
    "# options.add_argument(\"--no-sandbox\")\n",
    "# options.add_argument(\"--disable-dev-shm-usage\")\n",
    "# options.add_argument(\"--disable-gpu\")\n",
    "# options.add_argument(\"--disable-features=NetworkService\")\n",
    "# options.add_argument(\"--window-size=1920x1080\")\n",
    "# options.add_argument(\"--disable-features=VizDisplayCompositor\")\n",
    "# UA = 'Mozilla/5.0 (Macintosh; Intel Mac OS X 10_15_7) AppleWebKit/537.36 (KHTML, like Gecko) Chrome/104.0.0.0 Safari/537.36'\n",
    "# options.add_argument('--user-agent=' + UA)\n",
    "# mobile_emulation = { \"deviceName\": \"Galaxy S5\" }\n",
    "# options.add_experimental_option(\"mobileEmulation\", mobile_emulation)\n",
    "\n",
    "prefecture_list = ['愛知県']#,'東京都'\n",
    "\n",
    "line_token = os.getenv('LINE_TOKEN')\n",
    "#print(line_token)\n",
    "for prefecture in prefecture_list:\n",
    "    try:\n",
    "        post_line_text(f'{prefecture}MYSQL追加処理を開始します',line_token)\n",
    "        cols = ['機種名', '台番号', 'G数', '差枚', 'BB', 'RB', 'ART', 'BB確率', 'RB確率', 'ART確率','合成確率','店舗名']\n",
    "        ichiran_all_tennpo_df = pd.DataFrame(index=[], columns=cols)\n",
    "        yesterday = datetime.date.today() + datetime.timedelta(days=-1)\n",
    "        browser = webdriver.Chrome(ChromeDriverManager().install(),options=options)\n",
    "        url = f'https://{os.getenv(\"SCRAPING_DOMAIN\")}/%E3%83%9B%E3%83%BC%E3%83%AB%E3%83%87%E3%83%BC%E3%82%BF/{prefecture}/'\n",
    "        browser.get(url)\n",
    "        html = browser.page_source.encode('utf-8')\n",
    "        soup = BeautifulSoup(html, 'lxml')\n",
    "        tenpo_ichiran_df = pd.read_html(html)[-1]\n",
    "        #print(tenpo_ichiran_df['ホール名'])\n",
    "\n",
    "        i = 0\n",
    "        for tenpo_name in tenpo_ichiran_df['ホール名'] :#tenpo_ichiran_df['ホール名']\n",
    "            try:\n",
    "                #print(tenpo_name)\n",
    "                url = f'https://{os.getenv(\"SCRAPING_DOMAIN\")}/{yesterday.strftime(\"%Y-%m-%d\")}-{tenpo_name}'\n",
    "                browser.get(url)\n",
    "                html = browser.page_source.encode('utf-8')\n",
    "                dfs = pd.read_html(html)\n",
    "                #display(tenpo_df)\n",
    "                time.sleep(1)\n",
    "                for df in  dfs:\n",
    "                #print(df.columns)\n",
    "                    if '機種名' in list(df.columns):\n",
    "                        ichiran_df = df\n",
    "                        ichiran_df['日付'] = yesterday.strftime('%Y-%m-%d')\n",
    "                        ichiran_df['店舗名'] = tenpo_name\n",
    "                        print(tenpo_name)\n",
    "                        ichiran_df['Nのつく日'] = yesterday.strftime('%d')[-1]\n",
    "                        ichiran_df['都道府県'] = prefecture \n",
    "                        ichiran_df['機種名'] = ichiran_df['機種名'].map(removal_text)\n",
    "                        ichiran_all_tennpo_df =  pd.concat([ichiran_all_tennpo_df, ichiran_df])\n",
    "                        break\n",
    " \n",
    "            except:\n",
    "                time.sleep(1)\n",
    "                continue\n",
    "            i += 1\n",
    "            if i > 3:\n",
    "                break\n",
    "        browser.quit()\n",
    "        cols = ichiran_all_tennpo_df.columns.tolist()\n",
    "        cols = cols[-4:] + cols[:-4]\n",
    "        ichiran_all_tennpo_df = ichiran_all_tennpo_df[cols]  #    OR    df = df.ix[:, cols]\n",
    "        ichiran_all_tennpo_df['ART']= ichiran_all_tennpo_df['ART'].fillna(0)\n",
    "        ichiran_all_tennpo_df['BB']= ichiran_all_tennpo_df['BB'].fillna(0)\n",
    "        ichiran_all_tennpo_df['RB']= ichiran_all_tennpo_df['RB'].fillna(0)\n",
    "        ichiran_all_tennpo_df['差枚']= ichiran_all_tennpo_df['差枚'].fillna(0)\n",
    "        ichiran_all_tennpo_df['G数']= ichiran_all_tennpo_df['G数'].fillna(0)\n",
    "        ichiran_all_tennpo_df = ichiran_all_tennpo_df.fillna('')\n",
    "        #print(ichiran_all_tennpo_df.iloc[:5])\n",
    "        # SSH 接続\n",
    "        with sshtunnel.SSHTunnelForwarder(\n",
    "            (os.getenv('SSH_USERNAME'), 10022), \n",
    "            ssh_username=\"pachislot777\", \n",
    "            ssh_private_key_password=os.getenv('SSH_PRIVATE_KEY_PASSWORD'), \n",
    "            ssh_pkey=r\"sercret\\akasaka.key\", \n",
    "            remote_bind_address=(\"mysql8055.xserver.jp\", 3306 )\n",
    "            ) as server:\n",
    "\n",
    "            # SSH接続確認\n",
    "            print(f\"local bind port: {server.local_bind_port}\")\n",
    "            # データベース接続\n",
    "            cnx = mysql.connector.connect(\n",
    "                host=\"localhost\", \n",
    "                port=server.local_bind_port, \n",
    "                user=os.getenv('WORDPRESS_DB_ID'), \n",
    "                password=os.getenv('DB_PASSWORD'), \n",
    "                database=os.getenv('WORDPRESS_DB_NAME'), \n",
    "                charset=\"utf8\",\n",
    "                use_pure=True\n",
    "                )\n",
    "\n",
    "            # 接続確認\n",
    "            print(f\"sql connection status: {cnx.is_connected()}\")\n",
    "            cursor = cnx.cursor()\n",
    "            insert_data_bulk(ichiran_all_tennpo_df,cnx)\n",
    "            tenpo_name_number = len(ichiran_all_tennpo_df['店舗名'].unique())\n",
    "            post_line_text(f'{prefecture}{tenpo_name_number}件のSQL追加処理に成功しました',line_token)\n",
    "            delete_data(cnx,35)\n",
    "            # 終了\n",
    "            cnx.close()\n",
    "\n",
    "    except Exception as e:\n",
    "        print(e)\n",
    "        post_line_text(f'{prefecture}処理失敗{e}',line_token)\n",
    "\n",
    "    finally:\n",
    "        print('終了')\n",
    "\n",
    "\n"
   ]
  },
  {
   "cell_type": "code",
   "execution_count": 17,
   "metadata": {},
   "outputs": [
    {
     "name": "stdout",
     "output_type": "stream",
     "text": [
      "local bind port: 58924\n",
      "sql connection status: True\n",
      "Insert bulk data\n"
     ]
    }
   ],
   "source": [
    "with sshtunnel.SSHTunnelForwarder(\n",
    "    (os.getenv('SSH_USERNAME'), 10022), \n",
    "    ssh_username=\"pachislot777\", \n",
    "    ssh_private_key_password=os.getenv('SSH_PRIVATE_KEY_PASSWORD'), \n",
    "    ssh_pkey=r\"sercret\\akasaka.key\", \n",
    "    remote_bind_address=(\"mysql8055.xserver.jp\", 3306 )\n",
    "    ) as server:\n",
    "\n",
    "    # SSH接続確認\n",
    "    print(f\"local bind port: {server.local_bind_port}\")\n",
    "    # データベース接続\n",
    "    cnx = mysql.connector.connect(\n",
    "        host=\"localhost\", \n",
    "        port=server.local_bind_port, \n",
    "        user=os.getenv('WORDPRESS_DB_ID'), \n",
    "        password=os.getenv('DB_PASSWORD'), \n",
    "        database=os.getenv('WORDPRESS_DB_NAME'), \n",
    "        charset=\"utf8\",\n",
    "        use_pure=True\n",
    "        )\n",
    "\n",
    "    # 接続確認\n",
    "    print(f\"sql connection status: {cnx.is_connected()}\")\n",
    "    cursor = cnx.cursor()\n",
    "    insert_data_bulk(ichiran_all_tennpo_df,cnx)\n",
    "    tenpo_name_number = len(ichiran_all_tennpo_df['店舗名'].unique())\n",
    "    post_line_text(f'{prefecture}{tenpo_name_number}件のSQL追加処理に成功しました',line_token)\n",
    "    delete_data(cnx,35)\n",
    "    # 終了\n",
    "    cnx.close()"
   ]
  },
  {
   "cell_type": "code",
   "execution_count": 9,
   "metadata": {},
   "outputs": [],
   "source": [
    "ichiran_all_tennpo_df.to_csv(r'csv\\sample_parlar_data.csv',index=False)"
   ]
  },
  {
   "cell_type": "code",
   "execution_count": 6,
   "metadata": {},
   "outputs": [
    {
     "data": {
      "text/plain": [
       "True"
      ]
     },
     "execution_count": 6,
     "metadata": {},
     "output_type": "execute_result"
    }
   ],
   "source": []
  },
  {
   "cell_type": "code",
   "execution_count": 7,
   "metadata": {},
   "outputs": [
    {
     "name": "stdout",
     "output_type": "stream",
     "text": [
      "local bind port: 59782\n",
      "sql connection status: True\n"
     ]
    }
   ],
   "source": [
    "\n",
    "\n",
    "\n",
    "\n",
    "    # 以下データベース関連の処理"
   ]
  },
  {
   "cell_type": "code",
   "execution_count": null,
   "metadata": {},
   "outputs": [],
   "source": [
    "\n",
    "\n",
    "cnx = mysql.connector.connect(\n",
    "                        user = os.getenv('DB_USER_NAME'),\n",
    "                        password=os.getenv('DB_PASSWORD'), \n",
    "                        host=os.getenv('DB_HOST'), \n",
    "                        port='3306',\n",
    "                        database=os.getenv('DB_NAME'))\n"
   ]
  }
 ],
 "metadata": {
  "kernelspec": {
   "display_name": "venv",
   "language": "python",
   "name": "python3"
  },
  "language_info": {
   "codemirror_mode": {
    "name": "ipython",
    "version": 3
   },
   "file_extension": ".py",
   "mimetype": "text/x-python",
   "name": "python",
   "nbconvert_exporter": "python",
   "pygments_lexer": "ipython3",
   "version": "3.9.13"
  },
  "orig_nbformat": 4
 },
 "nbformat": 4,
 "nbformat_minor": 2
}
