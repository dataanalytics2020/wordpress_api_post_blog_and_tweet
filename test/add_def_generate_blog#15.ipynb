{
 "cells": [
  {
   "cell_type": "code",
   "execution_count": 1,
   "metadata": {},
   "outputs": [
    {
     "name": "stdout",
     "output_type": "stream",
     "text": [
      "読み込み完了\n",
      "ライブラリの読み込み完了\n"
     ]
    },
    {
     "data": {
      "text/plain": [
       "True"
      ]
     },
     "execution_count": 1,
     "metadata": {},
     "output_type": "execute_result"
    }
   ],
   "source": [
    "# -*- coding: utf-8 -*-\n",
    "# 埼玉千葉神奈川記事反映本番用\n",
    "import requests\n",
    "import json\n",
    "from wordpress_xmlrpc.methods import media\n",
    "from oauth2client.service_account import ServiceAccountCredentials\n",
    "import gspread\n",
    "from wordpress_xmlrpc.methods.posts import GetPosts, NewPost\n",
    "from wordpress_xmlrpc.methods.users import GetUserInfo\n",
    "from wordpress_xmlrpc.methods import media, posts\n",
    "from wordpress_xmlrpc.compat import xmlrpc_client\n",
    "from wordpress_xmlrpc import Client, WordPressPost\n",
    "from PIL import Image, ImageDraw, ImageFont\n",
    "from dateutil.relativedelta import relativedelta\n",
    "import matplotlib.pyplot as plt\n",
    "import os\n",
    "from selenium import webdriver\n",
    "import time\n",
    "import pandas as pd\n",
    "from selenium.webdriver.common.alert import Alert\n",
    "from selenium.webdriver.support.ui import Select\n",
    "import urllib\n",
    "from bs4 import BeautifulSoup\n",
    "import re\n",
    "import csv\n",
    "import codecs\n",
    "import requests\n",
    "import urllib.request as req\n",
    "import glob\n",
    "import json\n",
    "from matplotlib.ticker import MaxNLocator\n",
    "import matplotlib.ticker as ticker\n",
    "from matplotlib import rcParams\n",
    "from webdriver_manager.chrome import ChromeDriverManager\n",
    "from selenium.webdriver.chrome.options import Options\n",
    "from datetime import timedelta\n",
    "import datetime\n",
    "import os\n",
    "from dotenv import load_dotenv\n",
    "from selenium.webdriver.common.by import By\n",
    "from wordpress_xmlrpc import Client, WordPressPost, methods\n",
    "from src.utils import *\n",
    "print('ライブラリの読み込み完了')\n",
    "\n",
    "# .envファイルの内容を読み込見込む\n",
    "load_dotenv()\n",
    "\n",
    "\n",
    "\n",
    "\n"
   ]
  },
  {
   "cell_type": "code",
   "execution_count": null,
   "metadata": {},
   "outputs": [],
   "source": [
    " \n",
    "post.post_status = 'private'\n",
    " \n",
    "wp.call(posts.EditPost(記事ID, post))\n",
    " \n",
    "#ただしこのままでは記事タイトルが消され、nontitleになってしまします。（バグ？）\n",
    "#よって一度記事タイトルを取得し、記事タイトルと共に編集内容を代入します\n",
    " \n",
    "\n",
    "result = wp.call(posts.GetPost(post_id))\n",
    " \n",
    "post = WordPressPost()\n",
    " \n",
    "post.title = result.title #記事タイトル\n",
    "post.post_status = \"publish\" #公開状態\n",
    " \n",
    "wp.call(posts.EditPost(post_id, post))"
   ]
  },
  {
   "cell_type": "code",
   "execution_count": 35,
   "metadata": {},
   "outputs": [],
   "source": [
    "post.content = 'テスト２'"
   ]
  },
  {
   "cell_type": "code",
   "execution_count": null,
   "metadata": {},
   "outputs": [],
   "source": []
  },
  {
   "cell_type": "code",
   "execution_count": 27,
   "metadata": {},
   "outputs": [],
   "source": [
    "for post in posts :\n",
    "    vars(post)\n",
    "    break"
   ]
  },
  {
   "cell_type": "code",
   "execution_count": null,
   "metadata": {},
   "outputs": [],
   "source": [
    "get_content_id(self)\n",
    "    posts = wp.call(methods.posts.GetPosts({\"number\": 100 \"offset\": 0}))"
   ]
  },
  {
   "cell_type": "code",
   "execution_count": 13,
   "metadata": {},
   "outputs": [
    {
     "ename": "NameError",
     "evalue": "name 'wp' is not defined",
     "output_type": "error",
     "traceback": [
      "\u001b[1;31m---------------------------------------------------------------------------\u001b[0m",
      "\u001b[1;31mNameError\u001b[0m                                 Traceback (most recent call last)",
      "Cell \u001b[1;32mIn[13], line 5\u001b[0m\n\u001b[0;32m      3\u001b[0m offset \u001b[39m=\u001b[39m \u001b[39m0\u001b[39m  \u001b[39m# オフセット\u001b[39;00m\n\u001b[0;32m      4\u001b[0m \u001b[39mwhile\u001b[39;00m \u001b[39mTrue\u001b[39;00m:\n\u001b[1;32m----> 5\u001b[0m     posts \u001b[39m=\u001b[39m wp\u001b[39m.\u001b[39mcall(methods\u001b[39m.\u001b[39mposts\u001b[39m.\u001b[39mGetPosts({\u001b[39m\"\u001b[39m\u001b[39mnumber\u001b[39m\u001b[39m\"\u001b[39m: number, \u001b[39m\"\u001b[39m\u001b[39moffset\u001b[39m\u001b[39m\"\u001b[39m: offset}))\n\u001b[0;32m      6\u001b[0m     \u001b[39mif\u001b[39;00m \u001b[39mlen\u001b[39m(posts) \u001b[39m==\u001b[39m \u001b[39m0\u001b[39m:\n\u001b[0;32m      7\u001b[0m         \u001b[39mbreak\u001b[39;00m  \u001b[39m# これ以上取得するコンテンツがない場合\u001b[39;00m\n",
      "\u001b[1;31mNameError\u001b[0m: name 'wp' is not defined"
     ]
    }
   ],
   "source": [
    "# 20件ずつ取得したい場合、\n",
    "number = 20  # 一度に取得するコンテンツ数\n",
    "offset = 0  # オフセット\n",
    "while True:\n",
    "    posts = wp.call(methods.posts.GetPosts({\"number\": number, \"offset\": offset}))\n",
    "    if len(posts) == 0:\n",
    "        break  # これ以上取得するコンテンツがない場合\n",
    "\n",
    "    for post in posts:\n",
    "        print(post.id, post.title)\n",
    "\n",
    "    offset += number\n",
    "    if offset > 10:\n",
    "        break"
   ]
  },
  {
   "cell_type": "code",
   "execution_count": null,
   "metadata": {},
   "outputs": [],
   "source": []
  },
  {
   "cell_type": "code",
   "execution_count": 2,
   "metadata": {},
   "outputs": [],
   "source": [
    "class Blog():\n",
    "    def __init__(self):\n",
    "        WORDPRESS_ID = os.environ['WORDPRESS_ID']\n",
    "        WORDPRESS_PW = os.environ['WORDPRESS_PW']\n",
    "        WORDPRESS_URL = os.environ['WORDPRESS_URL']\n",
    "        self.wp = Client(WORDPRESS_URL, WORDPRESS_ID, WORDPRESS_PW)\n",
    "        \n",
    "    def add_target_date (self, target_day_number:int):\n",
    "        week_list = [ '(日)','(月)', '(火)', '(水)', '(木)', '(金)', '(土)','(日)']\n",
    "        target_date:datetime = datetime.date.today() + datetime.timedelta(days=target_day_number)\n",
    "        #datetime(2023,3,3)\n",
    "        self.target_date:datetime = datetime.date.today() + datetime.timedelta(days=target_day_number)\n",
    "        #3月3日(火)\n",
    "        self.target_date_string_jp:str = target_date.strftime('%m').lstrip('0') + '月' + target_date.strftime('%d').lstrip('0') + '日'  +week_list[target_date.isoweekday()]\n",
    "        #2023-03-03\n",
    "        self.target_date_string_sql:str = target_date.strftime('%Y-%m-%d')\n",
    "        print(f'インスタンに日付:{self.target_date_string_jp}など三つの変数が追加されました')\n",
    "    \n",
    "    def upload_image(self,in_image_file_name, out_image_file_name):\n",
    "        if os.path.exists(in_image_file_name):\n",
    "            with open(in_image_file_name, 'rb') as f:\n",
    "                binary = f.read()\n",
    "\n",
    "            data = {\n",
    "                \"name\": out_image_file_name,\n",
    "                \"type\": 'image/png',\n",
    "                \"overwrite\": True,\n",
    "                \"bits\": binary\n",
    "            }\n",
    "\n",
    "            media_id = self.wp.call(media.UploadFile(data))['id']\n",
    "            print(in_image_file_name.split('/')\n",
    "                [-1], 'Upload Success : id=%s' % media_id)\n",
    "            return media_id\n",
    "        else:\n",
    "            print(in_image_file_name.split('/')[-1], 'NO IMAGE!!')\n",
    "\n",
    "    def post_line(self,message):\n",
    "        url = \"https://notify-api.line.me/api/notify\"\n",
    "        token = os.environ['LINE_TOKEN']\n",
    "        headers = {\"Authorization\" : \"Bearer \"+ token}\n",
    "        payload = {\"message\" :  message}\n",
    "        #imagesフォルダの中のgazo.jpg\n",
    "        #print('image_path',image_path)\n",
    "        #files = {\"imageFile\":open(image_path,'rb')}\n",
    "        post = requests.post(url ,headers = headers ,params=payload) \n",
    "\n",
    "\n",
    "    def get_post_list(self):\n",
    "        '''投稿一覧を取得する関数\n",
    "        一回で100記事まで取得できる'''\n",
    "        post_list:list[WordPressPost] = self.wp.call(methods.posts.GetPosts({\"number\": 10, \"offset\":0}))\n",
    "        self.post_list = post_list\n",
    "\n",
    "    def generate_thumbnail(self) :\n",
    "        image_path = r'image\\image_source\\千葉.jpg'  # mac\n",
    "        image = Image.open(image_path)\n",
    "        draw = ImageDraw.Draw(image)\n",
    "        write_image_context = f'''{self.target_date_string_jp }\\n{self.prefecture}\\n取材予定まとめ'''\n",
    "        font_path = r\"font/LightNovelPOPv2.otf\"\n",
    "        font = ImageFont.truetype(font_path, size=240)\n",
    "        draw.multiline_text((130, 20), write_image_context, fill=(255, 255, 255),align='center',font=font, spacing=50, stroke_width=5, stroke_fill=(55, 55, 55))\n",
    "        thumbnail_image_path = fr'image\\thumbnail_{self.target_date}_{self.prefecture}.jpg'\n",
    "        image.save(thumbnail_image_path)\n",
    "        self.thumbnail_image_path = thumbnail_image_path\n",
    "\n",
    "    def post_blog(self):\n",
    "        title = f\"【{self.prefecture}】{self.target_date_string_jp} パチンコスロットイベント取材まとめ\"\n",
    "        # Blog Content (html)\n",
    "        body = f'''\n",
    "        テスト_{self.prefecture}_{self.target_date_string_jp}_1\n",
    "        '''\n",
    "        # publish or draft\n",
    "        status = 'draft' # \"publish\"　or# 'draft'\n",
    "\n",
    "        # Category keyword\n",
    "        cat1 = '取材予定まとめ'\n",
    "        cat2 = ''\n",
    "        cat3 = ''\n",
    "\n",
    "        # Tag keyword\n",
    "        tag1 = f'{self.prefecture}'\n",
    "        tag2 = f'{self.target_date}'\n",
    "\n",
    "        slug = f\"pledge_report_{self.target_date}_{self.prefecture}\"\n",
    "\n",
    "        # Post\n",
    "        post = WordPressPost()\n",
    "        post.title = title\n",
    "        post.content = body\n",
    "        post.post_status = status\n",
    "        post.terms_names = {\n",
    "            \"category\": [cat1],\n",
    "            \"post_tag\": [tag1, tag2],\n",
    "        }\n",
    "        post.slug = slug\n",
    "\n",
    "        #サムネイル関連\n",
    "        output_thumbnail_path = f'thumbnail_{self.target_date}_{self.prefecture}.jpg'\n",
    "        media_id = self.upload_image(self.thumbnail_image_path, output_thumbnail_path)\n",
    "        post.thumbnail = media_id\n",
    "\n",
    "        #Post Time\n",
    "        #post.date = datetime.datetime.now()\n",
    "\n",
    "        self.wp.call(NewPost(post))\n",
    "        print('記事書き込み完了')\n",
    "        # except Exception as e:\n",
    "    #     post_line(f'{tomorrow}分ブログ投稿失敗\\n{e}')\n",
    "\n"
   ]
  },
  {
   "cell_type": "code",
   "execution_count": 13,
   "metadata": {},
   "outputs": [
    {
     "data": {
      "text/plain": [
       "datetime.datetime(2023, 3, 25, 17, 5, 35, 752765)"
      ]
     },
     "execution_count": 13,
     "metadata": {},
     "output_type": "execute_result"
    }
   ],
   "source": [
    "datetime.datetime.now()"
   ]
  },
  {
   "cell_type": "code",
   "execution_count": 12,
   "metadata": {},
   "outputs": [],
   "source": []
  },
  {
   "cell_type": "code",
   "execution_count": 27,
   "metadata": {},
   "outputs": [
    {
     "name": "stdout",
     "output_type": "stream",
     "text": [
      "【長野県】3月28日(火) パチンコスロットイベント取材まとめ 37446\n"
     ]
    }
   ],
   "source": [
    "\n"
   ]
  },
  {
   "cell_type": "code",
   "execution_count": 14,
   "metadata": {},
   "outputs": [
    {
     "data": {
      "text/plain": [
       "'テスト_長野県_3月25日(土)_1'"
      ]
     },
     "execution_count": 14,
     "metadata": {},
     "output_type": "execute_result"
    }
   ],
   "source": [
    "post.content"
   ]
  },
  {
   "cell_type": "code",
   "execution_count": 15,
   "metadata": {},
   "outputs": [],
   "source": [
    "post.title += '_変更'\n",
    "post.content += '_変更'"
   ]
  },
  {
   "cell_type": "code",
   "execution_count": 23,
   "metadata": {},
   "outputs": [
    {
     "data": {
      "text/plain": [
       "'37443'"
      ]
     },
     "execution_count": 23,
     "metadata": {},
     "output_type": "execute_result"
    }
   ],
   "source": []
  },
  {
   "cell_type": "code",
   "execution_count": 18,
   "metadata": {},
   "outputs": [
    {
     "data": {
      "text/plain": [
       "<WordPressPost: b'\\xe3\\x80\\x90\\xe9\\x95\\xb7\\xe9\\x87\\x8e\\xe7\\x9c\\x8c\\xe3\\x80\\x913\\xe6\\x9c\\x8825\\xe6\\x97\\xa5(\\xe5\\x9c\\x9f) \\xe3\\x83\\x91\\xe3\\x83\\x81\\xe3\\x83\\xb3\\xe3\\x82\\xb3\\xe3\\x82\\xb9\\xe3\\x83\\xad\\xe3\\x83\\x83\\xe3\\x83\\x88\\xe3\\x82\\xa4\\xe3\\x83\\x99\\xe3\\x83\\xb3\\xe3\\x83\\x88\\xe5\\x8f\\x96\\xe6\\x9d\\x90\\xe3\\x81\\xbe\\xe3\\x81\\xa8\\xe3\\x82\\x81'>"
      ]
     },
     "execution_count": 18,
     "metadata": {},
     "output_type": "execute_result"
    }
   ],
   "source": []
  },
  {
   "cell_type": "code",
   "execution_count": 25,
   "metadata": {},
   "outputs": [
    {
     "name": "stdout",
     "output_type": "stream",
     "text": [
      "True\n"
     ]
    }
   ],
   "source": [
    "ret = blog.wp.call(methods.posts.DeletePost(int(post.id)))\n",
    "print(ret)"
   ]
  },
  {
   "cell_type": "code",
   "execution_count": 20,
   "metadata": {},
   "outputs": [
    {
     "data": {
      "text/plain": [
       "'37443'"
      ]
     },
     "execution_count": 20,
     "metadata": {},
     "output_type": "execute_result"
    }
   ],
   "source": [
    "int(post.id)"
   ]
  },
  {
   "cell_type": "code",
   "execution_count": 46,
   "metadata": {},
   "outputs": [
    {
     "ename": "Fault",
     "evalue": "<Fault 404: '無効な添付ファイル ID です。'>",
     "output_type": "error",
     "traceback": [
      "\u001b[1;31m---------------------------------------------------------------------------\u001b[0m",
      "\u001b[1;31mFault\u001b[0m                                     Traceback (most recent call last)",
      "Cell \u001b[1;32mIn[46], line 9\u001b[0m\n\u001b[0;32m      6\u001b[0m post\u001b[39m.\u001b[39mcontent \u001b[39m+\u001b[39m\u001b[39m=\u001b[39m \u001b[39m\"\u001b[39m\u001b[39m編集した内容\u001b[39m\u001b[39m\"\u001b[39m\n\u001b[0;32m      8\u001b[0m \u001b[39m# コンテンツを更新する。\u001b[39;00m\n\u001b[1;32m----> 9\u001b[0m ret \u001b[39m=\u001b[39m wp\u001b[39m.\u001b[39;49mcall(methods\u001b[39m.\u001b[39;49mposts\u001b[39m.\u001b[39;49mEditPost(\u001b[39mint\u001b[39;49m(post\u001b[39m.\u001b[39;49mid), post))\n\u001b[0;32m     10\u001b[0m \u001b[39mprint\u001b[39m(ret)\n",
      "File \u001b[1;32mc:\\Users\\tsc95\\Desktop\\syuzai_map_django_site\\venv\\lib\\site-packages\\wordpress_xmlrpc\\base.py:37\u001b[0m, in \u001b[0;36mClient.call\u001b[1;34m(self, method)\u001b[0m\n\u001b[0;32m     34\u001b[0m args \u001b[39m=\u001b[39m method\u001b[39m.\u001b[39mget_args(\u001b[39mself\u001b[39m)\n\u001b[0;32m     36\u001b[0m \u001b[39mtry\u001b[39;00m:\n\u001b[1;32m---> 37\u001b[0m     raw_result \u001b[39m=\u001b[39m server_method(\u001b[39m*\u001b[39;49margs)\n\u001b[0;32m     38\u001b[0m \u001b[39mexcept\u001b[39;00m xmlrpc_client\u001b[39m.\u001b[39mFault:\n\u001b[0;32m     39\u001b[0m     e \u001b[39m=\u001b[39m sys\u001b[39m.\u001b[39mexc_info()[\u001b[39m1\u001b[39m]\n",
      "File \u001b[1;32m~\\anaconda3\\lib\\xmlrpc\\client.py:1122\u001b[0m, in \u001b[0;36m_Method.__call__\u001b[1;34m(self, *args)\u001b[0m\n\u001b[0;32m   1121\u001b[0m \u001b[39mdef\u001b[39;00m \u001b[39m__call__\u001b[39m(\u001b[39mself\u001b[39m, \u001b[39m*\u001b[39margs):\n\u001b[1;32m-> 1122\u001b[0m     \u001b[39mreturn\u001b[39;00m \u001b[39mself\u001b[39;49m\u001b[39m.\u001b[39;49m__send(\u001b[39mself\u001b[39;49m\u001b[39m.\u001b[39;49m__name, args)\n",
      "File \u001b[1;32m~\\anaconda3\\lib\\xmlrpc\\client.py:1464\u001b[0m, in \u001b[0;36mServerProxy.__request\u001b[1;34m(self, methodname, params)\u001b[0m\n\u001b[0;32m   1458\u001b[0m \u001b[39mdef\u001b[39;00m \u001b[39m__request\u001b[39m(\u001b[39mself\u001b[39m, methodname, params):\n\u001b[0;32m   1459\u001b[0m     \u001b[39m# call a method on the remote server\u001b[39;00m\n\u001b[0;32m   1461\u001b[0m     request \u001b[39m=\u001b[39m dumps(params, methodname, encoding\u001b[39m=\u001b[39m\u001b[39mself\u001b[39m\u001b[39m.\u001b[39m__encoding,\n\u001b[0;32m   1462\u001b[0m                     allow_none\u001b[39m=\u001b[39m\u001b[39mself\u001b[39m\u001b[39m.\u001b[39m__allow_none)\u001b[39m.\u001b[39mencode(\u001b[39mself\u001b[39m\u001b[39m.\u001b[39m__encoding, \u001b[39m'\u001b[39m\u001b[39mxmlcharrefreplace\u001b[39m\u001b[39m'\u001b[39m)\n\u001b[1;32m-> 1464\u001b[0m     response \u001b[39m=\u001b[39m \u001b[39mself\u001b[39;49m\u001b[39m.\u001b[39;49m__transport\u001b[39m.\u001b[39;49mrequest(\n\u001b[0;32m   1465\u001b[0m         \u001b[39mself\u001b[39;49m\u001b[39m.\u001b[39;49m__host,\n\u001b[0;32m   1466\u001b[0m         \u001b[39mself\u001b[39;49m\u001b[39m.\u001b[39;49m__handler,\n\u001b[0;32m   1467\u001b[0m         request,\n\u001b[0;32m   1468\u001b[0m         verbose\u001b[39m=\u001b[39;49m\u001b[39mself\u001b[39;49m\u001b[39m.\u001b[39;49m__verbose\n\u001b[0;32m   1469\u001b[0m         )\n\u001b[0;32m   1471\u001b[0m     \u001b[39mif\u001b[39;00m \u001b[39mlen\u001b[39m(response) \u001b[39m==\u001b[39m \u001b[39m1\u001b[39m:\n\u001b[0;32m   1472\u001b[0m         response \u001b[39m=\u001b[39m response[\u001b[39m0\u001b[39m]\n",
      "File \u001b[1;32m~\\anaconda3\\lib\\xmlrpc\\client.py:1166\u001b[0m, in \u001b[0;36mTransport.request\u001b[1;34m(self, host, handler, request_body, verbose)\u001b[0m\n\u001b[0;32m   1164\u001b[0m \u001b[39mfor\u001b[39;00m i \u001b[39min\u001b[39;00m (\u001b[39m0\u001b[39m, \u001b[39m1\u001b[39m):\n\u001b[0;32m   1165\u001b[0m     \u001b[39mtry\u001b[39;00m:\n\u001b[1;32m-> 1166\u001b[0m         \u001b[39mreturn\u001b[39;00m \u001b[39mself\u001b[39;49m\u001b[39m.\u001b[39;49msingle_request(host, handler, request_body, verbose)\n\u001b[0;32m   1167\u001b[0m     \u001b[39mexcept\u001b[39;00m http\u001b[39m.\u001b[39mclient\u001b[39m.\u001b[39mRemoteDisconnected:\n\u001b[0;32m   1168\u001b[0m         \u001b[39mif\u001b[39;00m i:\n",
      "File \u001b[1;32m~\\anaconda3\\lib\\xmlrpc\\client.py:1182\u001b[0m, in \u001b[0;36mTransport.single_request\u001b[1;34m(self, host, handler, request_body, verbose)\u001b[0m\n\u001b[0;32m   1180\u001b[0m     \u001b[39mif\u001b[39;00m resp\u001b[39m.\u001b[39mstatus \u001b[39m==\u001b[39m \u001b[39m200\u001b[39m:\n\u001b[0;32m   1181\u001b[0m         \u001b[39mself\u001b[39m\u001b[39m.\u001b[39mverbose \u001b[39m=\u001b[39m verbose\n\u001b[1;32m-> 1182\u001b[0m         \u001b[39mreturn\u001b[39;00m \u001b[39mself\u001b[39;49m\u001b[39m.\u001b[39;49mparse_response(resp)\n\u001b[0;32m   1184\u001b[0m \u001b[39mexcept\u001b[39;00m Fault:\n\u001b[0;32m   1185\u001b[0m     \u001b[39mraise\u001b[39;00m\n",
      "File \u001b[1;32m~\\anaconda3\\lib\\xmlrpc\\client.py:1354\u001b[0m, in \u001b[0;36mTransport.parse_response\u001b[1;34m(self, response)\u001b[0m\n\u001b[0;32m   1351\u001b[0m     stream\u001b[39m.\u001b[39mclose()\n\u001b[0;32m   1352\u001b[0m p\u001b[39m.\u001b[39mclose()\n\u001b[1;32m-> 1354\u001b[0m \u001b[39mreturn\u001b[39;00m u\u001b[39m.\u001b[39;49mclose()\n",
      "File \u001b[1;32m~\\anaconda3\\lib\\xmlrpc\\client.py:668\u001b[0m, in \u001b[0;36mUnmarshaller.close\u001b[1;34m(self)\u001b[0m\n\u001b[0;32m    666\u001b[0m     \u001b[39mraise\u001b[39;00m ResponseError()\n\u001b[0;32m    667\u001b[0m \u001b[39mif\u001b[39;00m \u001b[39mself\u001b[39m\u001b[39m.\u001b[39m_type \u001b[39m==\u001b[39m \u001b[39m\"\u001b[39m\u001b[39mfault\u001b[39m\u001b[39m\"\u001b[39m:\n\u001b[1;32m--> 668\u001b[0m     \u001b[39mraise\u001b[39;00m Fault(\u001b[39m*\u001b[39m\u001b[39m*\u001b[39m\u001b[39mself\u001b[39m\u001b[39m.\u001b[39m_stack[\u001b[39m0\u001b[39m])\n\u001b[0;32m    669\u001b[0m \u001b[39mreturn\u001b[39;00m \u001b[39mtuple\u001b[39m(\u001b[39mself\u001b[39m\u001b[39m.\u001b[39m_stack)\n",
      "\u001b[1;31mFault\u001b[0m: <Fault 404: '無効な添付ファイル ID です。'>"
     ]
    }
   ],
   "source": [
    "WORDPRESS_ID = os.environ['WORDPRESS_ID']\n",
    "WORDPRESS_PW = os.environ['WORDPRESS_PW']\n",
    "WORDPRESS_URL = os.environ['WORDPRESS_URL']\n",
    "wp = Client(WORDPRESS_URL, WORDPRESS_ID, WORDPRESS_PW)\n",
    "\n",
    "post.title += \"編集したタイトル\"\n",
    "post.content += \"編集した内容\"\n",
    "\n",
    "# コンテンツを更新する。\n",
    "ret = wp.call(methods.posts.EditPost(post.id, post))\n",
    "print(ret)"
   ]
  },
  {
   "cell_type": "code",
   "execution_count": 26,
   "metadata": {},
   "outputs": [
    {
     "name": "stdout",
     "output_type": "stream",
     "text": [
      "長野県 3\n",
      "インスタンに日付:3月28日(火)など三つの変数が追加されました\n",
      "インスタンに日付:3月28日(火)など三つの変数が追加されました\n",
      "【長野県】3月28日(火) パチンコスロットイベント取材まとめ\n",
      "image\\thumbnail_2023-03-28_長野県.jpg Upload Success : id=37445\n",
      "記事書き込み完了\n"
     ]
    }
   ],
   "source": [
    "prefecture_list = ['長野県','静岡県','山梨県','愛知県']\n",
    "for target_day_number  in range(3,6):\n",
    "    for prefecture in prefecture_list:\n",
    "        blog = Blog()\n",
    "        print(prefecture,target_day_number)\n",
    "        blog.add_target_date (target_day_number)\n",
    "        blog.prefecture = prefecture\n",
    "        blog.add_target_date(target_day_number)\n",
    "        title = f\"【{blog.prefecture}】{blog.target_date_string_jp } パチンコスロットイベント取材まとめ\"\n",
    "        print(title)\n",
    "        blog.generate_thumbnail()\n",
    "        blog.post_blog()\n",
    "        break\n",
    "    break"
   ]
  },
  {
   "cell_type": "code",
   "execution_count": 29,
   "metadata": {},
   "outputs": [
    {
     "name": "stdout",
     "output_type": "stream",
     "text": [
      "【長野県】3月28日(火) パチンコスロットイベント取材まとめ 37446\n"
     ]
    }
   ],
   "source": [
    "blog.get_post_list()\n",
    "for post in blog.post_list:\n",
    "    print(post.title,post.id)\n",
    "    break"
   ]
  },
  {
   "cell_type": "code",
   "execution_count": 45,
   "metadata": {},
   "outputs": [
    {
     "data": {
      "text/plain": [
       "'37446'"
      ]
     },
     "execution_count": 45,
     "metadata": {},
     "output_type": "execute_result"
    }
   ],
   "source": [
    "post.id"
   ]
  },
  {
   "cell_type": "code",
   "execution_count": 49,
   "metadata": {},
   "outputs": [
    {
     "data": {
      "text/plain": [
       "<WordPressPost: b'\\xe3\\x80\\x90\\xe9\\x95\\xb7\\xe9\\x87\\x8e\\xe7\\x9c\\x8c\\xe3\\x80\\x913\\xe6\\x9c\\x8828\\xe6\\x97\\xa5(\\xe7\\x81\\xab) \\xe3\\x83\\x91\\xe3\\x83\\x81\\xe3\\x83\\xb3\\xe3\\x82\\xb3\\xe3\\x82\\xb9\\xe3\\x83\\xad\\xe3\\x83\\x83\\xe3\\x83\\x88\\xe3\\x82\\xa4\\xe3\\x83\\x99\\xe3\\x83\\xb3\\xe3\\x83\\x88\\xe5\\x8f\\x96\\xe6\\x9d\\x90\\xe3\\x81\\xbe\\xe3\\x81\\xa8\\xe3\\x82\\x81'>"
      ]
     },
     "execution_count": 49,
     "metadata": {},
     "output_type": "execute_result"
    }
   ],
   "source": [
    "post_id:int = int(post.id)\n",
    "post = blog.wp.call(methods.posts.GetPost(post_id))\n",
    "post"
   ]
  },
  {
   "cell_type": "code",
   "execution_count": 53,
   "metadata": {},
   "outputs": [
    {
     "data": {
      "text/plain": [
       "mappingproxy({'__module__': 'wordpress_xmlrpc.methods.posts',\n",
       "              '__doc__': '\\n    Edit an existing blog post.\\n\\n    Parameters:\\n        `post_id`: ID of the blog post to edit.\\n        `content`: A :class:`WordPressPost` instance with the new values for the blog post.\\n\\n    Returns: `True` on successful edit.\\n    ',\n",
       "              'method_name': 'wp.editPost',\n",
       "              'method_args': ('post_id', 'content')})"
      ]
     },
     "execution_count": 53,
     "metadata": {},
     "output_type": "execute_result"
    }
   ],
   "source": [
    "vars(methods.posts.EditPost)"
   ]
  },
  {
   "cell_type": "code",
   "execution_count": 55,
   "metadata": {},
   "outputs": [
    {
     "data": {
      "text/plain": [
       "'テスト_長野県_3月28日(火)_1'"
      ]
     },
     "execution_count": 55,
     "metadata": {},
     "output_type": "execute_result"
    }
   ],
   "source": [
    "post.content"
   ]
  },
  {
   "cell_type": "code",
   "execution_count": 59,
   "metadata": {},
   "outputs": [
    {
     "data": {
      "text/plain": [
       "'37449'"
      ]
     },
     "execution_count": 59,
     "metadata": {},
     "output_type": "execute_result"
    }
   ],
   "source": [
    "import time\n",
    "from datetime import datetime\n",
    "from wordpress_xmlrpc import Client, WordPressPost\n",
    "from wordpress_xmlrpc.methods.users import GetUserInfo\n",
    "from wordpress_xmlrpc.methods.posts import GetPosts, NewPost\n",
    "import locale\n",
    "\n",
    "# 時間を日本時間にセットする\n",
    "locale.setlocale(locale.LC_TIME, 'ja_JP.UTF-8')\n",
    "\n",
    "\n",
    "\n",
    "# クライアントの呼び出しなど\n",
    "\n",
    "post = WordPressPost()\n",
    "\n",
    "# 記事の編集 ##########\n",
    "post.post_status = \"draft\" #publish:投稿 or draft:下書き\n",
    "\n",
    "# 過去の日付にするとその日に投稿されたことになる。\n",
    "# 未来の日付にすると投稿が予約にされる\n",
    "post.date = datetime.now()\n",
    "\n",
    "post.title = \"タイトル\"\n",
    "post.content = \"本文（HTML形式でも良い）\"\n",
    "\n",
    "# 記事の編集おわり ##########\n",
    "\n",
    "wp.call(NewPost(post))\n"
   ]
  },
  {
   "cell_type": "code",
   "execution_count": 61,
   "metadata": {},
   "outputs": [],
   "source": [
    "import time\n",
    "from datetime import datetime\n",
    "from wordpress_xmlrpc import Client, WordPressPost\n",
    "from wordpress_xmlrpc.methods.users import GetUserInfo\n",
    "from wordpress_xmlrpc.methods.posts import GetPosts, NewPost,GetPost,EditPost\n",
    "import locale"
   ]
  },
  {
   "cell_type": "code",
   "execution_count": 63,
   "metadata": {},
   "outputs": [
    {
     "data": {
      "text/plain": [
       "{'_def': {'id': <wordpress_xmlrpc.fieldmaps.FieldMap at 0x193f504c9a0>,\n",
       "  'user': <wordpress_xmlrpc.fieldmaps.FieldMap at 0x193f504c1f0>,\n",
       "  'date': <wordpress_xmlrpc.fieldmaps.DateTimeFieldMap at 0x193d1af1f10>,\n",
       "  'date_modified': <wordpress_xmlrpc.fieldmaps.DateTimeFieldMap at 0x193d1af1fa0>,\n",
       "  'slug': <wordpress_xmlrpc.fieldmaps.FieldMap at 0x193f504cf70>,\n",
       "  'post_status': <wordpress_xmlrpc.fieldmaps.FieldMap at 0x193f504c340>,\n",
       "  'title': <wordpress_xmlrpc.fieldmaps.FieldMap at 0x193d1b05040>,\n",
       "  'content': <wordpress_xmlrpc.fieldmaps.FieldMap at 0x193f504ce20>,\n",
       "  'excerpt': <wordpress_xmlrpc.fieldmaps.FieldMap at 0x193f504c2e0>,\n",
       "  'link': <wordpress_xmlrpc.fieldmaps.FieldMap at 0x193f5042fa0>,\n",
       "  'comment_status': <wordpress_xmlrpc.fieldmaps.FieldMap at 0x193f5042850>,\n",
       "  'ping_status': <wordpress_xmlrpc.fieldmaps.FieldMap at 0x193f5042220>,\n",
       "  'terms': <wordpress_xmlrpc.fieldmaps.TermsListFieldMap at 0x193d1b050a0>,\n",
       "  'terms_names': <wordpress_xmlrpc.fieldmaps.FieldMap at 0x193f5042b50>,\n",
       "  'custom_fields': <wordpress_xmlrpc.fieldmaps.FieldMap at 0x193f50427c0>,\n",
       "  'enclosure': <wordpress_xmlrpc.fieldmaps.FieldMap at 0x193f5042eb0>,\n",
       "  'password': <wordpress_xmlrpc.fieldmaps.FieldMap at 0x193f5042c70>,\n",
       "  'post_format': <wordpress_xmlrpc.fieldmaps.FieldMap at 0x193f5042490>,\n",
       "  'thumbnail': <wordpress_xmlrpc.fieldmaps.FieldMap at 0x193f5042250>,\n",
       "  'sticky': <wordpress_xmlrpc.fieldmaps.FieldMap at 0x193f5042820>,\n",
       "  'post_type': <wordpress_xmlrpc.fieldmaps.FieldMap at 0x193d1b05100>,\n",
       "  'parent_id': <wordpress_xmlrpc.fieldmaps.FieldMap at 0x193f5042ac0>,\n",
       "  'menu_order': <wordpress_xmlrpc.fieldmaps.IntegerFieldMap at 0x193d1b05160>,\n",
       "  'guid': <wordpress_xmlrpc.fieldmaps.FieldMap at 0x193f5042550>,\n",
       "  'mime_type': <wordpress_xmlrpc.fieldmaps.FieldMap at 0x193f5042a90>},\n",
       " 'id': '37449',\n",
       " 'user': '1',\n",
       " 'date': datetime.datetime(2023, 3, 25, 17, 52, 9, 866239),\n",
       " 'date_modified': datetime.datetime(2023, 3, 25, 8, 49, 57),\n",
       " 'slug': '',\n",
       " 'post_status': 'draft',\n",
       " 'title': 'タイトル1',\n",
       " 'content': '本文1（HTML形式でも良い）',\n",
       " 'excerpt': '',\n",
       " 'link': 'https://slotana777.com/?p=37449',\n",
       " 'comment_status': 'closed',\n",
       " 'ping_status': 'open',\n",
       " 'terms': [<WordPressTerm: b'\\xe6\\x9c\\xaa\\xe5\\x88\\x86\\xe9\\xa1\\x9e'>],\n",
       " 'custom_fields': [{'id': '80089', 'key': 'amp_is_enabled', 'value': '0'}],\n",
       " 'password': '',\n",
       " 'post_format': 'standard',\n",
       " 'thumbnail': {'attachment_id': '225',\n",
       "  'date_created_gmt': <DateTime '20201208T09:54:23' at 0x193f50427f0>,\n",
       "  'parent': 0,\n",
       "  'link': 'https://slotana777.com/wp-content/uploads/2020/12/ika.png',\n",
       "  'title': 'ika',\n",
       "  'caption': '',\n",
       "  'description': '',\n",
       "  'metadata': {'width': 371,\n",
       "   'height': 82,\n",
       "   'file': '2020/12/ika.png',\n",
       "   'sizes': {'medium': {'file': 'ika-300x66.png',\n",
       "     'width': 300,\n",
       "     'height': 66,\n",
       "     'mime-type': 'image/png'},\n",
       "    'thumbnail': {'file': 'ika-150x82.png',\n",
       "     'width': 150,\n",
       "     'height': 82,\n",
       "     'mime-type': 'image/png'}},\n",
       "   'image_meta': {'aperture': '0',\n",
       "    'credit': '',\n",
       "    'camera': '',\n",
       "    'caption': '',\n",
       "    'created_timestamp': '0',\n",
       "    'copyright': '',\n",
       "    'focal_length': '0',\n",
       "    'iso': '0',\n",
       "    'shutter_speed': '0',\n",
       "    'title': '',\n",
       "    'orientation': '0',\n",
       "    'keywords': []}},\n",
       "  'type': 'image/png',\n",
       "  'thumbnail': 'https://slotana777.com/wp-content/uploads/2020/12/ika-150x82.png'},\n",
       " 'sticky': False,\n",
       " 'post_type': 'post',\n",
       " 'parent_id': '0',\n",
       " 'menu_order': 0,\n",
       " 'guid': 'https://slotana777.com/?p=37449',\n",
       " 'mime_type': ''}"
      ]
     },
     "execution_count": 63,
     "metadata": {},
     "output_type": "execute_result"
    }
   ],
   "source": [
    "vars(post)"
   ]
  },
  {
   "cell_type": "code",
   "execution_count": 62,
   "metadata": {},
   "outputs": [
    {
     "ename": "Fault",
     "evalue": "<Fault 404: '無効な添付ファイル ID です。'>",
     "output_type": "error",
     "traceback": [
      "\u001b[1;31m---------------------------------------------------------------------------\u001b[0m",
      "\u001b[1;31mFault\u001b[0m                                     Traceback (most recent call last)",
      "Cell \u001b[1;32mIn[62], line 12\u001b[0m\n\u001b[0;32m      9\u001b[0m post\u001b[39m.\u001b[39mdate \u001b[39m=\u001b[39m datetime\u001b[39m.\u001b[39mnow()\n\u001b[0;32m     11\u001b[0m \u001b[39m# 記事の投稿\u001b[39;00m\n\u001b[1;32m---> 12\u001b[0m wp\u001b[39m.\u001b[39;49mcall(EditPost(\u001b[39m37449\u001b[39;49m, post))\n",
      "File \u001b[1;32mc:\\Users\\tsc95\\Desktop\\syuzai_map_django_site\\venv\\lib\\site-packages\\wordpress_xmlrpc\\base.py:37\u001b[0m, in \u001b[0;36mClient.call\u001b[1;34m(self, method)\u001b[0m\n\u001b[0;32m     34\u001b[0m args \u001b[39m=\u001b[39m method\u001b[39m.\u001b[39mget_args(\u001b[39mself\u001b[39m)\n\u001b[0;32m     36\u001b[0m \u001b[39mtry\u001b[39;00m:\n\u001b[1;32m---> 37\u001b[0m     raw_result \u001b[39m=\u001b[39m server_method(\u001b[39m*\u001b[39;49margs)\n\u001b[0;32m     38\u001b[0m \u001b[39mexcept\u001b[39;00m xmlrpc_client\u001b[39m.\u001b[39mFault:\n\u001b[0;32m     39\u001b[0m     e \u001b[39m=\u001b[39m sys\u001b[39m.\u001b[39mexc_info()[\u001b[39m1\u001b[39m]\n",
      "File \u001b[1;32m~\\anaconda3\\lib\\xmlrpc\\client.py:1122\u001b[0m, in \u001b[0;36m_Method.__call__\u001b[1;34m(self, *args)\u001b[0m\n\u001b[0;32m   1121\u001b[0m \u001b[39mdef\u001b[39;00m \u001b[39m__call__\u001b[39m(\u001b[39mself\u001b[39m, \u001b[39m*\u001b[39margs):\n\u001b[1;32m-> 1122\u001b[0m     \u001b[39mreturn\u001b[39;00m \u001b[39mself\u001b[39;49m\u001b[39m.\u001b[39;49m__send(\u001b[39mself\u001b[39;49m\u001b[39m.\u001b[39;49m__name, args)\n",
      "File \u001b[1;32m~\\anaconda3\\lib\\xmlrpc\\client.py:1464\u001b[0m, in \u001b[0;36mServerProxy.__request\u001b[1;34m(self, methodname, params)\u001b[0m\n\u001b[0;32m   1458\u001b[0m \u001b[39mdef\u001b[39;00m \u001b[39m__request\u001b[39m(\u001b[39mself\u001b[39m, methodname, params):\n\u001b[0;32m   1459\u001b[0m     \u001b[39m# call a method on the remote server\u001b[39;00m\n\u001b[0;32m   1461\u001b[0m     request \u001b[39m=\u001b[39m dumps(params, methodname, encoding\u001b[39m=\u001b[39m\u001b[39mself\u001b[39m\u001b[39m.\u001b[39m__encoding,\n\u001b[0;32m   1462\u001b[0m                     allow_none\u001b[39m=\u001b[39m\u001b[39mself\u001b[39m\u001b[39m.\u001b[39m__allow_none)\u001b[39m.\u001b[39mencode(\u001b[39mself\u001b[39m\u001b[39m.\u001b[39m__encoding, \u001b[39m'\u001b[39m\u001b[39mxmlcharrefreplace\u001b[39m\u001b[39m'\u001b[39m)\n\u001b[1;32m-> 1464\u001b[0m     response \u001b[39m=\u001b[39m \u001b[39mself\u001b[39;49m\u001b[39m.\u001b[39;49m__transport\u001b[39m.\u001b[39;49mrequest(\n\u001b[0;32m   1465\u001b[0m         \u001b[39mself\u001b[39;49m\u001b[39m.\u001b[39;49m__host,\n\u001b[0;32m   1466\u001b[0m         \u001b[39mself\u001b[39;49m\u001b[39m.\u001b[39;49m__handler,\n\u001b[0;32m   1467\u001b[0m         request,\n\u001b[0;32m   1468\u001b[0m         verbose\u001b[39m=\u001b[39;49m\u001b[39mself\u001b[39;49m\u001b[39m.\u001b[39;49m__verbose\n\u001b[0;32m   1469\u001b[0m         )\n\u001b[0;32m   1471\u001b[0m     \u001b[39mif\u001b[39;00m \u001b[39mlen\u001b[39m(response) \u001b[39m==\u001b[39m \u001b[39m1\u001b[39m:\n\u001b[0;32m   1472\u001b[0m         response \u001b[39m=\u001b[39m response[\u001b[39m0\u001b[39m]\n",
      "File \u001b[1;32m~\\anaconda3\\lib\\xmlrpc\\client.py:1166\u001b[0m, in \u001b[0;36mTransport.request\u001b[1;34m(self, host, handler, request_body, verbose)\u001b[0m\n\u001b[0;32m   1164\u001b[0m \u001b[39mfor\u001b[39;00m i \u001b[39min\u001b[39;00m (\u001b[39m0\u001b[39m, \u001b[39m1\u001b[39m):\n\u001b[0;32m   1165\u001b[0m     \u001b[39mtry\u001b[39;00m:\n\u001b[1;32m-> 1166\u001b[0m         \u001b[39mreturn\u001b[39;00m \u001b[39mself\u001b[39;49m\u001b[39m.\u001b[39;49msingle_request(host, handler, request_body, verbose)\n\u001b[0;32m   1167\u001b[0m     \u001b[39mexcept\u001b[39;00m http\u001b[39m.\u001b[39mclient\u001b[39m.\u001b[39mRemoteDisconnected:\n\u001b[0;32m   1168\u001b[0m         \u001b[39mif\u001b[39;00m i:\n",
      "File \u001b[1;32m~\\anaconda3\\lib\\xmlrpc\\client.py:1182\u001b[0m, in \u001b[0;36mTransport.single_request\u001b[1;34m(self, host, handler, request_body, verbose)\u001b[0m\n\u001b[0;32m   1180\u001b[0m     \u001b[39mif\u001b[39;00m resp\u001b[39m.\u001b[39mstatus \u001b[39m==\u001b[39m \u001b[39m200\u001b[39m:\n\u001b[0;32m   1181\u001b[0m         \u001b[39mself\u001b[39m\u001b[39m.\u001b[39mverbose \u001b[39m=\u001b[39m verbose\n\u001b[1;32m-> 1182\u001b[0m         \u001b[39mreturn\u001b[39;00m \u001b[39mself\u001b[39;49m\u001b[39m.\u001b[39;49mparse_response(resp)\n\u001b[0;32m   1184\u001b[0m \u001b[39mexcept\u001b[39;00m Fault:\n\u001b[0;32m   1185\u001b[0m     \u001b[39mraise\u001b[39;00m\n",
      "File \u001b[1;32m~\\anaconda3\\lib\\xmlrpc\\client.py:1354\u001b[0m, in \u001b[0;36mTransport.parse_response\u001b[1;34m(self, response)\u001b[0m\n\u001b[0;32m   1351\u001b[0m     stream\u001b[39m.\u001b[39mclose()\n\u001b[0;32m   1352\u001b[0m p\u001b[39m.\u001b[39mclose()\n\u001b[1;32m-> 1354\u001b[0m \u001b[39mreturn\u001b[39;00m u\u001b[39m.\u001b[39;49mclose()\n",
      "File \u001b[1;32m~\\anaconda3\\lib\\xmlrpc\\client.py:668\u001b[0m, in \u001b[0;36mUnmarshaller.close\u001b[1;34m(self)\u001b[0m\n\u001b[0;32m    666\u001b[0m     \u001b[39mraise\u001b[39;00m ResponseError()\n\u001b[0;32m    667\u001b[0m \u001b[39mif\u001b[39;00m \u001b[39mself\u001b[39m\u001b[39m.\u001b[39m_type \u001b[39m==\u001b[39m \u001b[39m\"\u001b[39m\u001b[39mfault\u001b[39m\u001b[39m\"\u001b[39m:\n\u001b[1;32m--> 668\u001b[0m     \u001b[39mraise\u001b[39;00m Fault(\u001b[39m*\u001b[39m\u001b[39m*\u001b[39m\u001b[39mself\u001b[39m\u001b[39m.\u001b[39m_stack[\u001b[39m0\u001b[39m])\n\u001b[0;32m    669\u001b[0m \u001b[39mreturn\u001b[39;00m \u001b[39mtuple\u001b[39m(\u001b[39mself\u001b[39m\u001b[39m.\u001b[39m_stack)\n",
      "\u001b[1;31mFault\u001b[0m: <Fault 404: '無効な添付ファイル ID です。'>"
     ]
    }
   ],
   "source": [
    "\n",
    "\n",
    "\n",
    "# 編集したい記事を呼び出す\n",
    "post = wp.call(GetPost(37449))\n",
    "\n",
    "# 記事を編集する（新規投稿時と同じ）\n",
    "\n",
    "post.title = \"タイトル1\"\n",
    "post.content = \"本文1（HTML形式でも良い）\"\n",
    "\n",
    "post.date = datetime.now()\n",
    "\n",
    "# 記事の投稿\n",
    "wp.call(EditPost(37449, post))"
   ]
  }
 ],
 "metadata": {
  "kernelspec": {
   "display_name": "venv",
   "language": "python",
   "name": "python3"
  },
  "language_info": {
   "codemirror_mode": {
    "name": "ipython",
    "version": 3
   },
   "file_extension": ".py",
   "mimetype": "text/x-python",
   "name": "python",
   "nbconvert_exporter": "python",
   "pygments_lexer": "ipython3",
   "version": "3.9.13"
  },
  "orig_nbformat": 4
 },
 "nbformat": 4,
 "nbformat_minor": 2
}
