{
 "cells": [
  {
   "cell_type": "code",
   "execution_count": 2,
   "metadata": {},
   "outputs": [
    {
     "name": "stdout",
     "output_type": "stream",
     "text": [
      "ライブラリの読み込み完了\n"
     ]
    },
    {
     "data": {
      "text/plain": [
       "True"
      ]
     },
     "execution_count": 2,
     "metadata": {},
     "output_type": "execute_result"
    }
   ],
   "source": [
    "# -*- coding: utf-8 -*-\n",
    "# 埼玉千葉神奈川記事反映本番用\n",
    "import requests\n",
    "import json\n",
    "from wordpress_xmlrpc.methods import media\n",
    "from oauth2client.service_account import ServiceAccountCredentials\n",
    "import gspread\n",
    "from wordpress_xmlrpc.methods.posts import GetPosts, NewPost\n",
    "from wordpress_xmlrpc.methods.users import GetUserInfo\n",
    "from wordpress_xmlrpc.methods import media, posts\n",
    "from wordpress_xmlrpc.compat import xmlrpc_client\n",
    "from wordpress_xmlrpc import Client, WordPressPost\n",
    "from PIL import Image, ImageDraw, ImageFont\n",
    "from dateutil.relativedelta import relativedelta\n",
    "import matplotlib.pyplot as plt\n",
    "import os\n",
    "from selenium import webdriver\n",
    "import time\n",
    "import pandas as pd\n",
    "from selenium.webdriver.common.alert import Alert\n",
    "from selenium.webdriver.support.ui import Select\n",
    "import urllib\n",
    "from bs4 import BeautifulSoup\n",
    "import re\n",
    "import csv\n",
    "import codecs\n",
    "import requests\n",
    "import urllib.request as req\n",
    "import glob\n",
    "import json\n",
    "from matplotlib.ticker import MaxNLocator\n",
    "import matplotlib.ticker as ticker\n",
    "from matplotlib import rcParams\n",
    "from webdriver_manager.chrome import ChromeDriverManager\n",
    "from selenium.webdriver.chrome.options import Options\n",
    "from datetime import timedelta\n",
    "import datetime\n",
    "import os\n",
    "from dotenv import load_dotenv\n",
    "from selenium.webdriver.common.by import By\n",
    "from wordpress_xmlrpc import Client, WordPressPost, methods\n",
    "from src.utils import *\n",
    "print('ライブラリの読み込み完了')\n",
    "\n",
    "# .envファイルの内容を読み込見込む\n",
    "load_dotenv()\n",
    "\n",
    "\n",
    "\n",
    "\n"
   ]
  },
  {
   "cell_type": "code",
   "execution_count": 4,
   "metadata": {},
   "outputs": [],
   "source": [
    "class Blog():\n",
    "    def __init__(self):\n",
    "        WORDPRESS_ID = os.environ['WORDPRESS_ID']\n",
    "        WORDPRESS_PW = os.environ['WORDPRESS_PW']\n",
    "        WORDPRESS_URL = os.environ['WORDPRESS_URL']\n",
    "        self.wp = Client(WORDPRESS_URL, WORDPRESS_ID, WORDPRESS_PW)\n",
    "        \n",
    "    def add_target_date (self, target_day_number:int):\n",
    "        week_list = [ '(日)','(月)', '(火)', '(水)', '(木)', '(金)', '(土)','(日)']\n",
    "        target_date:datetime = datetime.date.today() + datetime.timedelta(days=target_day_number)\n",
    "        #datetime(2023,3,3)\n",
    "        self.target_date:datetime = datetime.date.today() + datetime.timedelta(days=target_day_number)\n",
    "        #3月3日(火)\n",
    "        self.target_date_string_jp:str = target_date.strftime('%m').lstrip('0') + '月' + target_date.strftime('%d').lstrip('0') + '日'  +week_list[target_date.isoweekday()]\n",
    "        #2023-03-03\n",
    "        self.target_date_string_sql:str = target_date.strftime('%Y-%m-%d')\n",
    "        print(f'インスタンに日付:{self.target_date_string_jp}など三つの変数が追加されました')\n",
    "    \n",
    "    def upload_image(self,in_image_file_name, out_image_file_name):\n",
    "        if os.path.exists(in_image_file_name):\n",
    "            with open(in_image_file_name, 'rb') as f:\n",
    "                binary = f.read()\n",
    "\n",
    "            data = {\n",
    "                \"name\": out_image_file_name,\n",
    "                \"type\": 'image/png',\n",
    "                \"overwrite\": True,\n",
    "                \"bits\": binary\n",
    "            }\n",
    "\n",
    "            media_id = self.wp.call(media.UploadFile(data))['id']\n",
    "            print(in_image_file_name.split('/')\n",
    "                [-1], 'Upload Success : id=%s' % media_id)\n",
    "            return media_id\n",
    "        else:\n",
    "            print(in_image_file_name.split('/')[-1], 'NO IMAGE!!')\n",
    "\n",
    "    def post_line(self,message):\n",
    "        url = \"https://notify-api.line.me/api/notify\"\n",
    "        token = os.environ['LINE_TOKEN']\n",
    "        headers = {\"Authorization\" : \"Bearer \"+ token}\n",
    "        payload = {\"message\" :  message}\n",
    "        #imagesフォルダの中のgazo.jpg\n",
    "        #print('image_path',image_path)\n",
    "        #files = {\"imageFile\":open(image_path,'rb')}\n",
    "        post = requests.post(url ,headers = headers ,params=payload) \n",
    "\n",
    "\n",
    "    def get_post_list(self) -> list[any]:\n",
    "        '''投稿一覧を取得する関数\n",
    "        一回で100記事まで取得できる'''\n",
    "        post_list:list[WordPressPost] = self.wp.call(methods.posts.GetPosts({\"number\": 50, \"offset\":0}))\n",
    "        self.post_list = post_list\n",
    "        return self.post_list\n",
    "\n",
    "    def generate_thumbnail(self) :\n",
    "        image_path = r'image\\image_source\\千葉.jpg'  # mac\n",
    "        image = Image.open(image_path)\n",
    "        draw = ImageDraw.Draw(image)\n",
    "        write_image_context = f'''{self.target_date_string_jp }\\n{self.prefecture}\\n取材予定まとめ'''\n",
    "        font_path = r\"font/LightNovelPOPv2.otf\"\n",
    "        font = ImageFont.truetype(font_path, size=240)\n",
    "        draw.multiline_text((130, 20), write_image_context, fill=(255, 255, 255),align='center',font=font, spacing=50, stroke_width=5, stroke_fill=(55, 55, 55))\n",
    "        thumbnail_image_path = fr'image\\thumbnail_{self.target_date}_{self.prefecture}.jpg'\n",
    "        image.save(thumbnail_image_path)\n",
    "        self.thumbnail_image_path = thumbnail_image_path\n",
    "\n",
    "    def post_blog(self):\n",
    "        title = f\"【{self.prefecture}】{self.target_date_string_jp} パチンコスロットイベント取材まとめ\"\n",
    "        # Blog Content (html)\n",
    "        body = f'''\n",
    "        テスト_{self.prefecture}_{self.target_date_string_jp}_1\n",
    "        '''\n",
    "        # publish or draft\n",
    "        status = 'draft' # \"publish\"　or# 'draft'\n",
    "\n",
    "        # Category keyword\n",
    "        cat1 = '取材予定まとめ'\n",
    "        cat2 = ''\n",
    "        cat3 = ''\n",
    "\n",
    "        # Tag keyword\n",
    "        tag1 = f'{self.prefecture}'\n",
    "        tag2 = f'{self.target_date}'\n",
    "\n",
    "        slug = f\"pledge_report_{self.target_date}_{self.prefecture}\"\n",
    "\n",
    "        # Post\n",
    "        post = WordPressPost()\n",
    "        post.title = title\n",
    "        post.content = body\n",
    "        post.post_status = status\n",
    "        post.terms_names = {\n",
    "            \"category\": [cat1],\n",
    "            \"post_tag\": [tag1],\n",
    "        }\n",
    "        post.slug = slug\n",
    "\n",
    "        #サムネイル関連\n",
    "        output_thumbnail_path = f'thumbnail_{self.target_date}_{self.prefecture}.jpg'\n",
    "        media_id = self.upload_image(self.thumbnail_image_path, output_thumbnail_path)\n",
    "        post.thumbnail = media_id\n",
    "\n",
    "        #Post Time\n",
    "        #post.date = datetime.datetime.now()\n",
    "\n",
    "        self.wp.call(NewPost(post))\n",
    "        print('記事書き込み完了')\n",
    "        # except Exception as e:\n",
    "    #     post_line(f'{tomorrow}分ブログ投稿失敗\\n{e}')\n",
    "    \n",
    "    def wp_update_post(self,content_id, changed_content):\n",
    "\n",
    "        # URL, User, Password設定\n",
    "        WP_URL: str = \"https://slotana777.com\"\n",
    "        WP_USER: str = os.getenv('WP_USER')\n",
    "        WP_API_PASSWORD: str = os.getenv('REST_API_PW')\n",
    "        API_URL = f\"{WP_URL}/wp-json/wp/v2/\"\n",
    "        url = f'{WP_URL}/wp-json/wp/v2/posts/{content_id}'\n",
    "\n",
    "\n",
    "        params = {'content':changed_content}\n",
    "\n",
    "        res = requests.post(\n",
    "            url,\n",
    "            params=params,\n",
    "            auth=( WP_USER, WP_API_PASSWORD),\n",
    "            )\n",
    "\n",
    "        return res\n",
    "\n",
    "\n"
   ]
  },
  {
   "cell_type": "code",
   "execution_count": 5,
   "metadata": {},
   "outputs": [],
   "source": [
    "blog= Blog()"
   ]
  },
  {
   "cell_type": "code",
   "execution_count": 6,
   "metadata": {},
   "outputs": [],
   "source": [
    "post_list :list = blog.get_post_list()"
   ]
  },
  {
   "cell_type": "code",
   "execution_count": 8,
   "metadata": {},
   "outputs": [
    {
     "data": {
      "text/plain": [
       "'37455'"
      ]
     },
     "execution_count": 8,
     "metadata": {},
     "output_type": "execute_result"
    }
   ],
   "source": [
    "post.id"
   ]
  },
  {
   "cell_type": "code",
   "execution_count": 11,
   "metadata": {},
   "outputs": [
    {
     "data": {
      "text/plain": [
       "37446"
      ]
     },
     "execution_count": 11,
     "metadata": {},
     "output_type": "execute_result"
    }
   ],
   "source": [
    "post_title_contentid_dict['【長野県】3月28日(火) パチンコスロットイベント取材まとめ']"
   ]
  },
  {
   "cell_type": "code",
   "execution_count": 13,
   "metadata": {},
   "outputs": [
    {
     "data": {
      "text/plain": [
       "False"
      ]
     },
     "execution_count": 13,
     "metadata": {},
     "output_type": "execute_result"
    }
   ],
   "source": [
    "if '【長野県】3月28日(火) パチンコスロットイベント取材まとめ' in post_title_contentid_dict"
   ]
  },
  {
   "cell_type": "code",
   "execution_count": 10,
   "metadata": {},
   "outputs": [
    {
     "name": "stdout",
     "output_type": "stream",
     "text": [
      "【長野県】3月29日(水) パチンコスロットイベント取材まとめ 37455\n",
      "タイトル 37449\n",
      "Pythonで自動投稿 -確認- 37451\n",
      "【長野県】3月28日(火) パチンコスロットイベント取材まとめ 37446\n",
      "【3/29(水)】埼玉・神奈川・千葉　パチンコスロットイベント取材まとめ【関東】 37410\n",
      "【3/28(火)】埼玉・神奈川・千葉　パチンコスロットイベント取材まとめ【関東】 37382\n",
      "【3/27(月)】埼玉・神奈川・千葉　パチンコスロットイベント取材まとめ【関東】 37355\n",
      "【3/26(日)】埼玉・神奈川・千葉　パチンコスロットイベント取材まとめ【関東】 37324\n",
      "【3/25(土)】埼玉・神奈川・千葉　パチンコスロットイベント取材まとめ【関東】 37296\n",
      "【3/24(金)】埼玉・神奈川・千葉　パチンコスロットイベント取材まとめ【関東】 37267\n",
      "【3/23(木)】埼玉・神奈川・千葉　パチンコスロットイベント取材まとめ【関東】 37240\n",
      "【3/22(水)】埼玉・神奈川・千葉　パチンコスロットイベント取材まとめ【関東】 37213\n",
      "【3/21(火)】埼玉・神奈川・千葉　パチンコスロットイベント取材まとめ【関東】 37186\n",
      "【3/20(月)】埼玉・神奈川・千葉　パチンコスロットイベント取材まとめ【関東】 37159\n",
      "【3/19(日)】埼玉・神奈川・千葉　パチンコスロットイベント取材まとめ【関東】 37131\n",
      "【3/18(土)】埼玉・神奈川・千葉　パチンコスロットイベント取材まとめ【関東】 37104\n",
      "【3/17(金)】埼玉・神奈川・千葉　パチンコスロットイベント取材まとめ【関東】 37077\n",
      "【3/16(木)】埼玉・神奈川・千葉　パチンコスロットイベント取材まとめ【関東】 37050\n",
      "【3/15(水)】埼玉・神奈川・千葉　パチンコスロットイベント取材まとめ【関東】 37023\n",
      "【3/14(火)】埼玉・神奈川・千葉　パチンコスロットイベント取材まとめ【関東】 36996\n",
      "【3/13(月)】埼玉・神奈川・千葉　パチンコスロットイベント取材まとめ【関東】 36969\n",
      "【3/12(日)】埼玉・神奈川・千葉　パチンコスロットイベント取材まとめ【関東】 36942\n",
      "【3/11(土)】埼玉・神奈川・千葉　パチンコスロットイベント取材まとめ【関東】 36915\n",
      "【3/10(金)】埼玉・神奈川・千葉　パチンコスロットイベント取材まとめ【関東】 36827\n",
      "【3/9(木)】埼玉・神奈川・千葉　パチンコスロットイベント取材まとめ【関東】 36704\n",
      "【3/8(水)】埼玉・神奈川・千葉　パチンコスロットイベント取材まとめ【関東】 36677\n",
      "【3/7(火)】埼玉・神奈川・千葉　パチンコスロットイベント取材まとめ【関東】 36650\n",
      "【3/6(月)】埼玉・神奈川・千葉　パチンコスロットイベント取材まとめ【関東】 36623\n",
      "【3/5(日)】埼玉・神奈川・千葉　パチンコスロットイベント取材まとめ【関東】 36595\n",
      "【3/4(土)】埼玉・神奈川・千葉　パチンコスロットイベント取材まとめ【関東】 36568\n",
      "【3/3(金)】埼玉・神奈川・千葉　パチンコスロットイベント取材まとめ【関東】 36541\n",
      "【3/2(木)】埼玉・神奈川・千葉　パチンコスロットイベント取材まとめ【関東】 36514\n",
      "【3/1(水)】埼玉・神奈川・千葉　パチンコスロットイベント取材まとめ【関東】 36487\n",
      "【2/28(火)】埼玉・神奈川・千葉　パチンコスロットイベント取材まとめ【関東】 36460\n",
      "【2/27(月)】埼玉・神奈川・千葉　パチンコスロットイベント取材まとめ【関東】 36433\n",
      "【2/26(日)】埼玉・神奈川・千葉　パチンコスロットイベント取材まとめ【関東】 36406\n",
      "【2/25(土)】埼玉・神奈川・千葉　パチンコスロットイベント取材まとめ【関東】 36379\n",
      "【2/24(金)】埼玉・神奈川・千葉　パチンコスロットイベント取材まとめ【関東】 36351\n",
      "【2/23(木)】埼玉・神奈川・千葉　パチンコスロットイベント取材まとめ【関東】 36324\n",
      "【2/22(水)】埼玉・神奈川・千葉　パチンコスロットイベント取材まとめ【関東】 36297\n",
      "【2/21(火)】埼玉・神奈川・千葉　パチンコスロットイベント取材まとめ【関東】 36270\n",
      "【2/27(月)】埼玉・神奈川・千葉　パチンコスロットイベント取材まとめ【関東】 36243\n",
      "【2/26(日)】埼玉・神奈川・千葉　パチンコスロットイベント取材まとめ【関東】 36216\n",
      "【2/25(土)】埼玉・神奈川・千葉　パチンコスロットイベント取材まとめ【関東】 36189\n",
      "【2/24(金)】埼玉・神奈川・千葉　パチンコスロットイベント取材まとめ【関東】 36162\n",
      "【2/23(木)】埼玉・神奈川・千葉　パチンコスロットイベント取材まとめ【関東】 36135\n",
      "【2/22(水)】埼玉・神奈川・千葉　パチンコスロットイベント取材まとめ【関東】 36108\n",
      "【2/21(火)】埼玉・神奈川・千葉　パチンコスロットイベント取材まとめ【関東】 36080\n",
      "【2/20(月)】埼玉・神奈川・千葉　パチンコスロットイベント取材まとめ【関東】 36053\n",
      "【2/19(日)】埼玉・神奈川・千葉　パチンコスロットイベント取材まとめ【関東】 36026\n"
     ]
    }
   ],
   "source": [
    "post_title_contentid_dict:dict[str:int] = {}\n",
    "for post in post_list:\n",
    "    post_title_contentid_dict[post.title] = int(post.id)\n",
    "    print(post.title,post.id)\n",
    "    #break\n",
    "    \n",
    "title = '【長野県】3月28日(火) パチンコスロットイベント取材まとめ'\n",
    "if title in post_title_contentid_dict:\n",
    "    update_content_id = post_title_contentid_dict[title]\n",
    "    print(update_content_id )\n",
    "else:\n",
    "    print('新しい記事を作成')"
   ]
  },
  {
   "cell_type": "code",
   "execution_count": 19,
   "metadata": {},
   "outputs": [
    {
     "data": {
      "text/plain": [
       "<Response [404]>"
      ]
     },
     "execution_count": 19,
     "metadata": {},
     "output_type": "execute_result"
    }
   ],
   "source": [
    "blog.wp_update_post(post.title,post.content)"
   ]
  },
  {
   "cell_type": "code",
   "execution_count": 5,
   "metadata": {},
   "outputs": [
    {
     "name": "stdout",
     "output_type": "stream",
     "text": [
      "長野県 3\n",
      "インスタンに日付:3月29日(水)など三つの変数が追加されました\n",
      "インスタンに日付:3月29日(水)など三つの変数が追加されました\n",
      "【長野県】3月29日(水) パチンコスロットイベント取材まとめ\n",
      "image\\thumbnail_2023-03-29_長野県.jpg Upload Success : id=37454\n",
      "記事書き込み完了\n"
     ]
    }
   ],
   "source": [
    "prefecture_list = ['長野県','静岡県','山梨県','愛知県']\n",
    "for target_day_number  in range(3,6):\n",
    "    for prefecture in prefecture_list:\n",
    "        blog = Blog()\n",
    "        print(prefecture,target_day_number)\n",
    "        blog.add_target_date (target_day_number)\n",
    "        blog.prefecture = prefecture\n",
    "        blog.add_target_date(target_day_number)\n",
    "        title = f\"【{blog.prefecture}】{blog.target_date_string_jp } パチンコスロットイベント取材まとめ\"\n",
    "        print(title)\n",
    "        blog.generate_thumbnail()\n",
    "        blog.post_blog()\n",
    "        break\n",
    "    break"
   ]
  },
  {
   "cell_type": "code",
   "execution_count": 29,
   "metadata": {},
   "outputs": [
    {
     "name": "stdout",
     "output_type": "stream",
     "text": [
      "【長野県】3月28日(火) パチンコスロットイベント取材まとめ 37446\n"
     ]
    }
   ],
   "source": [
    "blog.get_post_list()\n",
    "for post in blog.post_list:\n",
    "    print(post.title,post.id)\n",
    "    break"
   ]
  },
  {
   "cell_type": "code",
   "execution_count": 1,
   "metadata": {},
   "outputs": [
    {
     "name": "stdout",
     "output_type": "stream",
     "text": [
      "読み込み完了\n",
      "ライブラリの読み込み完了\n"
     ]
    }
   ],
   "source": [
    "import requests\n",
    "import json\n",
    "import base64\n",
    "\n",
    "from dotenv import load_dotenv\n",
    "from selenium.webdriver.common.by import By\n",
    "from wordpress_xmlrpc import Client, WordPressPost, methods\n",
    "from src.utils import *\n",
    "print('ライブラリの読み込み完了')\n",
    "\n",
    "# .envファイルの内容を読み込見込む\n",
    "load_dotenv()\n",
    "\n",
    "# URL, User, Password設定\n",
    "WP_URL: str = \"https://slotana777.com\"\n",
    "WP_USER: str = \"python_rest_api\"\n",
    "WP_API_PASSWORD: str = os.getenv('REST_API_PW')\n",
    "API_URL = f\"{WP_URL}/wp-json/wp/v2/\"\n"
   ]
  },
  {
   "cell_type": "code",
   "execution_count": 5,
   "metadata": {},
   "outputs": [
    {
     "name": "stdout",
     "output_type": "stream",
     "text": [
      "919\n"
     ]
    },
    {
     "data": {
      "text/plain": [
       "919"
      ]
     },
     "execution_count": 5,
     "metadata": {},
     "output_type": "execute_result"
    }
   ],
   "source": [
    "from urllib.parse import urljoin\n",
    "\n",
    "tag_url = urljoin(WP_URL, '/wp-json/wp/v2/tags/')\n",
    "def wp_tag_add(tagname):\n",
    "    r = \"\"\n",
    "    post = {\n",
    "        'name': tagname,\n",
    "    }\n",
    "    res = requests.post(\n",
    "        tag_url ,\n",
    "        json=post,\n",
    "        auth=(WP_USER, WP_API_PASSWORD),\n",
    "        )\n",
    "    data = json.loads(res.text)\n",
    "    if 'code' in data:\n",
    "        if data['code'] == \"term_exists\":\n",
    "            r = data['data']['term_id']\n",
    "            print(r)\n",
    "    else:\n",
    "        r = data['id']\n",
    "        print(r)\n",
    "    return r\n",
    "r = wp_tag_add('奈良県')"
   ]
  }
 ],
 "metadata": {
  "kernelspec": {
   "display_name": "venv",
   "language": "python",
   "name": "python3"
  },
  "language_info": {
   "codemirror_mode": {
    "name": "ipython",
    "version": 3
   },
   "file_extension": ".py",
   "mimetype": "text/x-python",
   "name": "python",
   "nbconvert_exporter": "python",
   "pygments_lexer": "ipython3",
   "version": "3.9.13"
  },
  "orig_nbformat": 4
 },
 "nbformat": 4,
 "nbformat_minor": 2
}
